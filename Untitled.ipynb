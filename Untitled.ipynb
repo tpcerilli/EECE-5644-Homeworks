{
 "cells": [
  {
   "cell_type": "code",
   "execution_count": 1,
   "metadata": {},
   "outputs": [],
   "source": [
    "import matplotlib.pyplot as plt # For general plotting\n",
    "\n",
    "import numpy as np\n",
    "\n",
    "from scipy.stats import multivariate_normal # MVN not univariate\n",
    "from sklearn.metrics import confusion_matrix"
   ]
  },
  {
   "cell_type": "code",
   "execution_count": 2,
   "metadata": {},
   "outputs": [
    {
     "name": "stdout",
     "output_type": "stream",
     "text": [
      "Threshold value: 1.8571428571428574\n",
      "Number of samples from Class 1: 6565, Class 2: 3435\n"
     ]
    }
   ],
   "source": [
    "N = 10000\n",
    "\n",
    "mu = np.array([[-.5, -.5,-.5],\n",
    "                [1, 1, 1]])  # Gaussian distributions means\n",
    "\n",
    "Sigma = np.array([[[1, -0.5, 0.3],\n",
    "                   [-0.5, 1, -0.5],\n",
    "                   [0.3, -0.5, 1]\n",
    "                  ],\n",
    "                   \n",
    "                  [[1, 0.3, -0.2],\n",
    "                   [0.3, 1, 0.3],\n",
    "                   [-0.2, 0.3, 1]]\n",
    "                  ])  # Gaussian distributions covariance matrices\n",
    "n = mu.shape[1]\n",
    "\n",
    "# Class priors\n",
    "priors = np.array([0.65, 0.35])\n",
    "C = len(priors)\n",
    "\n",
    "# Caculate threshold rule\n",
    "Lambda = np.ones((C, C)) - np.identity(C)\n",
    "gamma = (Lambda[1,0] - Lambda[0,0])/(Lambda[0,1] - Lambda[1,1]) * priors[0] / priors[1]\n",
    "print(f'Threshold value: {gamma}')\n",
    "\n",
    "\n",
    "u = np.random.rand(N)\n",
    "threshold = np.linspace(0,10,100)\n",
    "\n",
    "\n",
    "# Output samples and labels\n",
    "X = np.zeros([N, n])\n",
    "labels = np.zeros(N) # KEEP TRACK OF THIS\n",
    "\n",
    "# Plot for original data and their true labels\n",
    "labels = np.random.rand(N) >= priors[0]\n",
    "L = np.array(range(C))\n",
    "Nl = np.array([sum(labels == l) for l in L])\n",
    "print(\"Number of samples from Class 1: {:d}, Class 2: {:d}\".format(Nl[0], Nl[1]))\n",
    "\n",
    "X = np.zeros((N, n))\n",
    "X[labels == 0, :] =  multivariate_normal.rvs(mu[0], Sigma[0], Nl[0])\n",
    "X[labels == 1, :] =  multivariate_normal.rvs(mu[1], Sigma[1], Nl[1])"
   ]
  },
  {
   "cell_type": "code",
   "execution_count": 3,
   "metadata": {},
   "outputs": [
    {
     "name": "stdout",
     "output_type": "stream",
     "text": [
      "1.8571428571428574\n"
     ]
    }
   ],
   "source": [
    "# Expected Risk Minimization Classifier (using true model parameters)\n",
    "# In practice the parameters would be estimated from training samples\n",
    "# Using log-likelihood-ratio as the discriminant score for ERM\n",
    "class_conditional_likelihoods = np.array([multivariate_normal.pdf(X, mu[l], Sigma[l]) for l in L])\n",
    "discriminant_score_erm = np.log(class_conditional_likelihoods[1]) - np.log(class_conditional_likelihoods[0])\n",
    "\n",
    "# Gamma threshold for MAP decision rule (remove Lambdas and you obtain same gamma on priors only; 0-1 loss simplification)\n",
    "gamma_map = (Lambda[1,0] - Lambda[0,0]) / (Lambda[0,1] - Lambda[1,1]) * priors[0]/priors[1]\n",
    "# Same as:\n",
    "# gamma_map = priors[0]/priors[1]\n",
    "print(gamma_map)"
   ]
  },
  {
   "cell_type": "code",
   "execution_count": 4,
   "metadata": {},
   "outputs": [],
   "source": [
    "from sys import float_info # Threshold smallest positive floating value\n",
    "\n",
    "# Generate ROC curve samples\n",
    "def estimate_roc(discriminant_score, label):\n",
    "    Nlabels = np.array((sum(label == 0), sum(label == 1)))\n",
    "\n",
    "    sorted_score = sorted(discriminant_score)\n",
    "\n",
    "    # Use tau values that will account for every possible classification split\n",
    "    taus = ([sorted_score[0] - float_info.epsilon] + \n",
    "             sorted_score +\n",
    "             [sorted_score[-1] + float_info.epsilon])\n",
    "\n",
    "    # Calculate the decision label for each observation for each gamma\n",
    "    decisions = [discriminant_score >= t for t in taus]\n",
    "\n",
    "    ind10 = [np.argwhere((d==1) & (label==0)) for d in decisions]\n",
    "    p10 = [len(inds)/Nlabels[0] for inds in ind10]\n",
    "    ind11 = [np.argwhere((d==1) & (label==1)) for d in decisions]\n",
    "    p11 = [len(inds)/Nlabels[1] for inds in ind11]\n",
    "\n",
    "    # ROC has FPR on the x-axis and TPR on the y-axis\n",
    "    roc = np.array((p10, p11))\n",
    "\n",
    "    return roc, taus"
   ]
  },
  {
   "cell_type": "code",
   "execution_count": 5,
   "metadata": {},
   "outputs": [],
   "source": [
    "class_conditional_likelihoods = np.array([multivariate_normal.pdf(X, mu[l], Sigma[l]) for l in L])\n",
    "discriminant_score_erm = np.log(class_conditional_likelihoods[1]) - np.log(class_conditional_likelihoods[0])\n",
    "\n",
    "\n",
    "# Gamma threshold for MAP decision rule (remove Lambdas and you obtain same gamma on priors only; 0-1 loss simplification)\n",
    "trials = 101\n",
    "threshold = np.linspace(0,10,trials)\n",
    "gamma_map = priors[0]/priors[1]\n",
    "\n",
    "decisions_map = discriminant_score_erm >= np.log(gamma_map)\n",
    "\n",
    "# Get indices and probability estimates of the four decision scenarios:\n",
    "# (true negative, false positive, false negative, true positive)\n",
    "\n",
    "# True Negative Probability\n",
    "ind_00_map = np.argwhere((decisions_map==0) & (labels==0))\n",
    "p_00_map = len(ind_00_map) / Nl[0]\n",
    "# False Positive Probability\n",
    "ind_10_map = np.argwhere((decisions_map==1) & (labels==0))\n",
    "p_10_map = len(ind_10_map) / Nl[0]\n",
    "# False Negative Probability\n",
    "ind_01_map = np.argwhere((decisions_map==0) & (labels==1))\n",
    "p_01_map = len(ind_01_map) / Nl[1]\n",
    "# True Positive Probability\n",
    "ind_11_map = np.argwhere((decisions_map==1) & (labels==1))\n",
    "p_11_map = len(ind_11_map) / Nl[1]\n",
    "\n",
    "# Probability of error for MAP classifier, empirically estimated\n",
    "prob_error_erm = np.array((p_10_map, p_01_map)).dot(Nl.T / N)\n"
   ]
  },
  {
   "cell_type": "code",
   "execution_count": 6,
   "metadata": {},
   "outputs": [
    {
     "data": {
      "image/png": "[encoded data removed]",
      "text/plain": [
       "<Figure size 720x720 with 1 Axes>"
      ]
     },
     "metadata": {
      "needs_background": "light"
     },
     "output_type": "display_data"
    }
   ],
   "source": [
    "# Construct the ROC for ERM by changing log(gamma)\n",
    "roc_erm, _ = estimate_roc(discriminant_score_erm, labels)\n",
    "roc_map = np.array((p_10_map, p_11_map))\n",
    "\n",
    "fig_roc, ax_roc = plt.subplots(figsize=(10, 10))\n",
    "ax_roc.plot(roc_erm[0], roc_erm[1])\n",
    "ax_roc.plot(roc_map[0], roc_map[1], 'rx', label=\"Minimum P(Error) MAP\", markersize=16)\n",
    "ax_roc.legend()\n",
    "ax_roc.set_xlabel(r\"Probability of false alarm $P(D=1|L=0)$\")\n",
    "ax_roc.set_ylabel(r\"Probability of correct decision $P(D=1|L=1)$\")\n",
    "plt.grid(True)\n",
    "\n",
    "fig_roc;"
   ]
  },
  {
   "cell_type": "code",
   "execution_count": null,
   "metadata": {},
   "outputs": [],
   "source": []
  },
  {
   "cell_type": "code",
   "execution_count": null,
   "metadata": {},
   "outputs": [],
   "source": []
  }
 ],
 "metadata": {
  "kernelspec": {
   "display_name": "Python 3",
   "language": "python",
   "name": "python3"
  },
  "language_info": {
   "codemirror_mode": {
    "name": "ipython",
    "version": 3
   },
   "file_extension": ".py",
   "mimetype": "text/x-python",
   "name": "python",
   "nbconvert_exporter": "python",
   "pygments_lexer": "ipython3",
   "version": "3.8.3"
  }
 },
 "nbformat": 4,
 "nbformat_minor": 4
}
